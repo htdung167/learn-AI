{
 "cells": [
  {
   "cell_type": "markdown",
   "id": "ee47c815",
   "metadata": {},
   "source": [
    "# 1. Import"
   ]
  },
  {
   "cell_type": "code",
   "execution_count": 1,
   "id": "5e6c0a64",
   "metadata": {},
   "outputs": [],
   "source": [
    "import numpy as np"
   ]
  },
  {
   "cell_type": "markdown",
   "id": "130eb198",
   "metadata": {},
   "source": [
    "# 2. Khởi tạo mảng"
   ]
  },
  {
   "cell_type": "markdown",
   "id": "63d34e48",
   "metadata": {},
   "source": [
    "## 2.1 Khởi tạo từ đầu"
   ]
  },
  {
   "cell_type": "markdown",
   "id": "0e55bb9f",
   "metadata": {},
   "source": [
    "Các phần tử của một mảng trong numpy phải đồng nhất về định dạng dữ liệu"
   ]
  },
  {
   "cell_type": "code",
   "execution_count": 27,
   "id": "5d0fff67",
   "metadata": {},
   "outputs": [
    {
     "name": "stdout",
     "output_type": "stream",
     "text": [
      "[[1 2]\n",
      " [3 4]]\n",
      "[[1.1 2. ]\n",
      " [5.2 8. ]]\n",
      "[['abc' 'be']\n",
      " ['c' 'd']]\n",
      "[[1. 2.]\n",
      " [3. 4.]]\n",
      "int32 float64 <U3 float32\n"
     ]
    }
   ],
   "source": [
    "#Mảng số nguyên\n",
    "A = np.array([[1, 2], [3, 4]])\n",
    "\n",
    "#Mảng float\n",
    "B = np.array([[1.1, 2], [5.2, 8]])\n",
    "\n",
    "#Mảng chuỗi\n",
    "C = np.array([['abc', 'be'],['c', 'd']])\n",
    "\n",
    "#Mảng float nhưng cách khác\n",
    "D = np.array(A, dtype=np.float32)\n",
    "print(A)\n",
    "print(B)\n",
    "print(C)\n",
    "print(D)\n",
    "print(A.dtype, B.dtype, C.dtype, D.dtype)"
   ]
  },
  {
   "cell_type": "markdown",
   "id": "5c15ced1",
   "metadata": {},
   "source": [
    "## 2.2 Khởi tạo ngẫu nhiên"
   ]
  },
  {
   "cell_type": "markdown",
   "id": "45d28bef",
   "metadata": {},
   "source": [
    "**Khởi tạo theo PHÂN PHỐI CHUẨN HÓA có trung bình bằng 0 và phương sai bằng 1**"
   ]
  },
  {
   "cell_type": "code",
   "execution_count": 25,
   "id": "6a242b6c",
   "metadata": {},
   "outputs": [
    {
     "name": "stdout",
     "output_type": "stream",
     "text": [
      "[[ 0.41120486 -0.12662315  0.17956767 -0.53803661]\n",
      " [-1.2671958  -0.59024263  0.43002303  0.55615886]\n",
      " [-0.729582    0.55775033  0.48458756  0.02950761]]\n",
      "-----------------------------\n",
      "[[[ 0.44339192  0.40277263 -1.92196831  1.06423987  0.23333976]\n",
      "  [ 0.51921735  1.34653246 -0.52624258 -1.57388919  1.10518621]\n",
      "  [-0.71525512  2.03384819 -1.29172002  1.04424789 -0.26623286]\n",
      "  [ 0.84542091 -0.65632409 -3.41010947 -0.31251686 -0.05215998]]\n",
      "\n",
      " [[-1.22899064 -0.33294234 -0.55525745  0.76546724  0.17254781]\n",
      "  [-0.89968024  0.46008531  1.60475921 -1.56663708 -0.0951763 ]\n",
      "  [-0.05708864 -0.3701907  -1.07636762  0.68456552 -1.38882002]\n",
      "  [ 0.54291534 -1.47897968  1.66875653  0.92959868  0.84281208]]\n",
      "\n",
      " [[-0.92473682 -0.6879567  -1.42454346  0.72863612 -0.77200082]\n",
      "  [-0.45426664 -1.01084409  0.35050985  0.28851744  1.12497965]\n",
      "  [ 0.39144298 -0.51675158  0.32802577  0.64689097 -0.42295603]\n",
      "  [ 2.29629625  1.082495   -0.61032151  0.01263179 -1.49203295]]]\n"
     ]
    }
   ],
   "source": [
    "R = np.random.randn(3, 4)\n",
    "print(N1)\n",
    "print(\"-----------------------------\")\n",
    "R = np.random.randn(3, 4, 5)\n",
    "print(N2)"
   ]
  },
  {
   "cell_type": "markdown",
   "id": "28f51ad2",
   "metadata": {},
   "source": [
    "**Khởi tạo theo PHÂN PHỐI GAUSSIAN (trường hợp tổng quát của phân phối chuẩn hóa) với trung bình là loc, phương sai là scale**\n"
   ]
  },
  {
   "cell_type": "code",
   "execution_count": 24,
   "id": "a455d5d2",
   "metadata": {},
   "outputs": [
    {
     "name": "stdout",
     "output_type": "stream",
     "text": [
      "[[-4.71877986  6.70759866 -0.1167611   3.89071461]\n",
      " [-0.09476331  4.59495748  7.32528332 -9.95620131]\n",
      " [ 0.29623777  3.44407032  0.66956515  2.35348523]]\n"
     ]
    }
   ],
   "source": [
    "R = np.random.normal(loc=1, scale=5, size=(3, 4))\n",
    "print(G)"
   ]
  },
  {
   "cell_type": "markdown",
   "id": "9387dc73",
   "metadata": {},
   "source": [
    "**Khởi tạo theo PHÂN PHỐI ĐỀU (các phần sẽ được khởi tạo trong phân phối đều trong đoạn từ low tới high )**\n"
   ]
  },
  {
   "cell_type": "code",
   "execution_count": 23,
   "id": "6c161f40",
   "metadata": {},
   "outputs": [
    {
     "name": "stdout",
     "output_type": "stream",
     "text": [
      "[[3.39135344 7.74137058 2.13865176 9.4324054 ]\n",
      " [4.46982176 0.52923022 3.55869087 3.85768023]\n",
      " [5.75225579 8.17896399 3.38769292 8.17801919]]\n"
     ]
    }
   ],
   "source": [
    "R = np.random.uniform(low=0, high=10, size=(3, 4))\n",
    "print(R)"
   ]
  },
  {
   "cell_type": "markdown",
   "id": "3690b20b",
   "metadata": {},
   "source": [
    "**Khởi tạo theo SINH NGẪU NHIÊN SỐ NGUYÊN trong đoạn low đến high**"
   ]
  },
  {
   "cell_type": "code",
   "execution_count": 26,
   "id": "e00e3a55",
   "metadata": {},
   "outputs": [
    {
     "name": "stdout",
     "output_type": "stream",
     "text": [
      "[[ 1 -1 -2]\n",
      " [ 0  0  1]]\n"
     ]
    }
   ],
   "source": [
    "R = np.random.randint(low=-2, high=2, size=(2, 3))\n",
    "print(R)"
   ]
  },
  {
   "cell_type": "markdown",
   "id": "560f2d3e",
   "metadata": {},
   "source": [
    "**Ngoài ra còn nhiều kiểu khởi tạo khác theo các phân phối khác nữa**"
   ]
  },
  {
   "cell_type": "markdown",
   "id": "f7d202d1",
   "metadata": {},
   "source": [
    "# 3. Lưu và Đọc numpy "
   ]
  },
  {
   "cell_type": "markdown",
   "id": "bb73e454",
   "metadata": {},
   "source": [
    "## 3.1. Lưu"
   ]
  },
  {
   "cell_type": "markdown",
   "id": "7972b9fb",
   "metadata": {},
   "source": [
    "**Khởi tạo mảng ví dụ**"
   ]
  },
  {
   "cell_type": "code",
   "execution_count": 37,
   "id": "f5aac125",
   "metadata": {},
   "outputs": [
    {
     "name": "stdout",
     "output_type": "stream",
     "text": [
      "[[ 0.04542204  1.44020347  5.71860812 -3.92206195 12.35622479]\n",
      " [-5.57102789  1.63867806  1.79025316  7.71894515  3.95136842]\n",
      " [10.47703004 -4.55467832  3.83533494 -0.68138841  9.6000112 ]\n",
      " [ 4.47121286 -1.03150713  2.01773367  2.38461855 -1.75820237]]\n"
     ]
    }
   ],
   "source": [
    "R = np.random.normal(loc=2, scale=4, size=(4, 5))\n",
    "print(R)"
   ]
  },
  {
   "cell_type": "markdown",
   "id": "704692c6",
   "metadata": {},
   "source": [
    "**Lưu với định dạng npy: save được mọi tensor với số chiều tùy ý**"
   ]
  },
  {
   "cell_type": "code",
   "execution_count": 39,
   "id": "363b5d04",
   "metadata": {},
   "outputs": [],
   "source": [
    "np.save('R', R)"
   ]
  },
  {
   "cell_type": "markdown",
   "id": "b7e3b9f3",
   "metadata": {},
   "source": [
    "**Lưu với định dạng txt: chỉ save được mảng 1D và 2D**"
   ]
  },
  {
   "cell_type": "code",
   "execution_count": 40,
   "id": "7e20e590",
   "metadata": {},
   "outputs": [],
   "source": [
    "np.savetxt('R.txt', R)"
   ]
  },
  {
   "cell_type": "markdown",
   "id": "b94fae1b",
   "metadata": {},
   "source": [
    "**Kết quả**"
   ]
  },
  {
   "attachments": {
    "image.png": {
     "image/png": "[encoded data removed]"
    }
   },
   "cell_type": "markdown",
   "id": "34f37d52",
   "metadata": {},
   "source": [
    "![image.png](attachment:image.png)"
   ]
  },
  {
   "cell_type": "markdown",
   "id": "fcfc14f2",
   "metadata": {},
   "source": [
    "## 3.2. Đọc"
   ]
  },
  {
   "cell_type": "code",
   "execution_count": 41,
   "id": "81c86004",
   "metadata": {},
   "outputs": [
    {
     "name": "stdout",
     "output_type": "stream",
     "text": [
      "[[ 0.04542204  1.44020347  5.71860812 -3.92206195 12.35622479]\n",
      " [-5.57102789  1.63867806  1.79025316  7.71894515  3.95136842]\n",
      " [10.47703004 -4.55467832  3.83533494 -0.68138841  9.6000112 ]\n",
      " [ 4.47121286 -1.03150713  2.01773367  2.38461855 -1.75820237]]\n"
     ]
    }
   ],
   "source": [
    "R = np.load('R.npy')\n",
    "print(R)"
   ]
  },
  {
   "cell_type": "code",
   "execution_count": 42,
   "id": "943d6826",
   "metadata": {},
   "outputs": [
    {
     "name": "stdout",
     "output_type": "stream",
     "text": [
      "[[ 0.04542204  1.44020347  5.71860812 -3.92206195 12.35622479]\n",
      " [-5.57102789  1.63867806  1.79025316  7.71894515  3.95136842]\n",
      " [10.47703004 -4.55467832  3.83533494 -0.68138841  9.6000112 ]\n",
      " [ 4.47121286 -1.03150713  2.01773367  2.38461855 -1.75820237]]\n"
     ]
    }
   ],
   "source": [
    "R = np.loadtxt('R.txt')\n",
    "print(R)"
   ]
  },
  {
   "cell_type": "markdown",
   "id": "21743eb7",
   "metadata": {},
   "source": [
    "## 3.3. Chuyển từ dataframe sang mảng"
   ]
  },
  {
   "cell_type": "markdown",
   "id": "50e9fcab",
   "metadata": {},
   "source": [
    "Dùng df.values thay vì np.array(df)"
   ]
  },
  {
   "cell_type": "markdown",
   "id": "a3bd9705",
   "metadata": {},
   "source": [
    "# 4. Truy cập mảng trên numpy"
   ]
  },
  {
   "cell_type": "code",
   "execution_count": 43,
   "id": "4a468d23",
   "metadata": {},
   "outputs": [
    {
     "data": {
      "text/plain": [
       "array([[ 7,  7, -3,  3,  0,  5],\n",
       "       [ 7,  5,  4, -2,  6,  2],\n",
       "       [ 5,  1,  7,  4, -2,  3],\n",
       "       [ 6,  3,  7,  5,  5,  7],\n",
       "       [ 1,  6,  2, -3, -2,  0]])"
      ]
     },
     "execution_count": 43,
     "metadata": {},
     "output_type": "execute_result"
    }
   ],
   "source": [
    "X = np.random.randint(low=-3, high=8, size=(5, 6))\n",
    "X"
   ]
  },
  {
   "cell_type": "code",
   "execution_count": 44,
   "id": "29581f99",
   "metadata": {},
   "outputs": [
    {
     "data": {
      "text/plain": [
       "6"
      ]
     },
     "execution_count": 44,
     "metadata": {},
     "output_type": "execute_result"
    }
   ],
   "source": [
    "#Lấy phần tử tại vị trí (1, 4)\n",
    "X[1, 4]"
   ]
  },
  {
   "cell_type": "code",
   "execution_count": 45,
   "id": "19582b84",
   "metadata": {},
   "outputs": [
    {
     "data": {
      "text/plain": [
       "array([[5, 4],\n",
       "       [1, 7]])"
      ]
     },
     "execution_count": 45,
     "metadata": {},
     "output_type": "execute_result"
    }
   ],
   "source": [
    "#Lấy dòng 1 đến dòng 3, cột 1 đến cột 3\n",
    "X[1:3, 1:3]"
   ]
  },
  {
   "cell_type": "code",
   "execution_count": 48,
   "id": "73fe5bb3",
   "metadata": {},
   "outputs": [
    {
     "data": {
      "text/plain": [
       "array([[ 1,  6,  2, -3, -2,  0],\n",
       "       [ 6,  3,  7,  5,  5,  7],\n",
       "       [ 5,  1,  7,  4, -2,  3],\n",
       "       [ 7,  5,  4, -2,  6,  2],\n",
       "       [ 7,  7, -3,  3,  0,  5]])"
      ]
     },
     "execution_count": 48,
     "metadata": {},
     "output_type": "execute_result"
    }
   ],
   "source": [
    "#Đảo các dòng trong mảng ngược lại\n",
    "X[::-1, :]"
   ]
  },
  {
   "cell_type": "code",
   "execution_count": 49,
   "id": "9dc880d6",
   "metadata": {},
   "outputs": [
    {
     "data": {
      "text/plain": [
       "array([[ 7,  7, -3,  3,  0,  5],\n",
       "       [ 1,  6,  2, -3, -2,  0]])"
      ]
     },
     "execution_count": 49,
     "metadata": {},
     "output_type": "execute_result"
    }
   ],
   "source": [
    "#Lấy dòng đầu và dòng cuối\n",
    "X[[0, -1], :]"
   ]
  },
  {
   "cell_type": "markdown",
   "id": "01e4c8c8",
   "metadata": {},
   "source": [
    "# 5. Shape của mảng"
   ]
  },
  {
   "cell_type": "markdown",
   "id": "899417b1",
   "metadata": {},
   "source": [
    "## 5.1. Shape"
   ]
  },
  {
   "cell_type": "code",
   "execution_count": 55,
   "id": "aa145641",
   "metadata": {},
   "outputs": [
    {
     "data": {
      "text/plain": [
       "(3, 4)"
      ]
     },
     "execution_count": 55,
     "metadata": {},
     "output_type": "execute_result"
    }
   ],
   "source": [
    "X = np.random.randint(low=0, high=10, size=(3, 4))\n",
    "\n",
    "X.shape"
   ]
  },
  {
   "cell_type": "markdown",
   "id": "1670719c",
   "metadata": {},
   "source": [
    "## 5.2. Reshape"
   ]
  },
  {
   "cell_type": "code",
   "execution_count": 56,
   "id": "7779ced4",
   "metadata": {},
   "outputs": [
    {
     "data": {
      "text/plain": [
       "array([[3, 2, 6, 8],\n",
       "       [0, 4, 1, 2],\n",
       "       [2, 2, 3, 7]])"
      ]
     },
     "execution_count": 56,
     "metadata": {},
     "output_type": "execute_result"
    }
   ],
   "source": [
    "X"
   ]
  },
  {
   "cell_type": "code",
   "execution_count": 59,
   "id": "607b3e84",
   "metadata": {},
   "outputs": [
    {
     "data": {
      "text/plain": [
       "array([[3, 2, 6, 8, 0, 4],\n",
       "       [1, 2, 2, 2, 3, 7]])"
      ]
     },
     "execution_count": 59,
     "metadata": {},
     "output_type": "execute_result"
    }
   ],
   "source": [
    "X.reshape(2, 6)"
   ]
  },
  {
   "cell_type": "code",
   "execution_count": 60,
   "id": "13a33c07",
   "metadata": {},
   "outputs": [
    {
     "data": {
      "text/plain": [
       "array([[3, 2, 6, 8, 0, 4],\n",
       "       [1, 2, 2, 2, 3, 7]])"
      ]
     },
     "execution_count": 60,
     "metadata": {},
     "output_type": "execute_result"
    }
   ],
   "source": [
    "np.reshape(X, (2, 6))"
   ]
  },
  {
   "cell_type": "code",
   "execution_count": 63,
   "id": "2802041b",
   "metadata": {},
   "outputs": [
    {
     "data": {
      "text/plain": [
       "array([[3, 2, 6, 8, 0, 4],\n",
       "       [1, 2, 2, 2, 3, 7]])"
      ]
     },
     "execution_count": 63,
     "metadata": {},
     "output_type": "execute_result"
    }
   ],
   "source": [
    "X.reshape(2, -1)"
   ]
  },
  {
   "cell_type": "code",
   "execution_count": 65,
   "id": "db49f8aa",
   "metadata": {},
   "outputs": [
    {
     "data": {
      "text/plain": [
       "array([[3, 2, 6, 8, 0, 4],\n",
       "       [1, 2, 2, 2, 3, 7]])"
      ]
     },
     "execution_count": 65,
     "metadata": {},
     "output_type": "execute_result"
    }
   ],
   "source": [
    "np.reshape(X, (2, -1))"
   ]
  },
  {
   "cell_type": "code",
   "execution_count": 66,
   "id": "e138aaa9",
   "metadata": {},
   "outputs": [
    {
     "data": {
      "text/plain": [
       "array([[3, 2, 6, 8],\n",
       "       [0, 4, 1, 2],\n",
       "       [2, 2, 3, 7]])"
      ]
     },
     "execution_count": 66,
     "metadata": {},
     "output_type": "execute_result"
    }
   ],
   "source": [
    "X"
   ]
  },
  {
   "cell_type": "markdown",
   "id": "45af5c54",
   "metadata": {},
   "source": [
    "## 5.3. Chuyển vị "
   ]
  },
  {
   "cell_type": "code",
   "execution_count": 71,
   "id": "a7752505",
   "metadata": {},
   "outputs": [
    {
     "data": {
      "text/plain": [
       "array([[3, 0, 2],\n",
       "       [2, 4, 2],\n",
       "       [6, 1, 3],\n",
       "       [8, 2, 7]])"
      ]
     },
     "execution_count": 71,
     "metadata": {},
     "output_type": "execute_result"
    }
   ],
   "source": [
    "X.transpose()"
   ]
  },
  {
   "cell_type": "code",
   "execution_count": 72,
   "id": "b57c09f5",
   "metadata": {},
   "outputs": [
    {
     "data": {
      "text/plain": [
       "array([[3, 0, 2],\n",
       "       [2, 4, 2],\n",
       "       [6, 1, 3],\n",
       "       [8, 2, 7]])"
      ]
     },
     "execution_count": 72,
     "metadata": {},
     "output_type": "execute_result"
    }
   ],
   "source": [
    "#Hoặc\n",
    "np.transpose(X)"
   ]
  },
  {
   "cell_type": "markdown",
   "id": "e92780ae",
   "metadata": {},
   "source": [
    "**Ngoài ra còn có thể chuyển vị các ma trận có chiều lớn hơn 2**"
   ]
  },
  {
   "cell_type": "code",
   "execution_count": 75,
   "id": "5cbd4dbf",
   "metadata": {},
   "outputs": [
    {
     "data": {
      "text/plain": [
       "(3, 5, 6)"
      ]
     },
     "execution_count": 75,
     "metadata": {},
     "output_type": "execute_result"
    }
   ],
   "source": [
    "A = np.random.randn(3, 5, 6)\n",
    "A.shape"
   ]
  },
  {
   "cell_type": "code",
   "execution_count": 78,
   "id": "19ac13ca",
   "metadata": {},
   "outputs": [
    {
     "data": {
      "text/plain": [
       "(5, 6, 3)"
      ]
     },
     "execution_count": 78,
     "metadata": {},
     "output_type": "execute_result"
    }
   ],
   "source": [
    "A = A.transpose(1, 2, 0)\n",
    "A.shape"
   ]
  },
  {
   "cell_type": "code",
   "execution_count": 81,
   "id": "36660416",
   "metadata": {},
   "outputs": [
    {
     "data": {
      "text/plain": [
       "(3, 5, 6)"
      ]
     },
     "execution_count": 81,
     "metadata": {},
     "output_type": "execute_result"
    }
   ],
   "source": [
    "#Hoặc\n",
    "np.transpose(A, (2, 0, 1)).shape"
   ]
  },
  {
   "cell_type": "markdown",
   "id": "1545b5a0",
   "metadata": {},
   "source": [
    "## 5.4. Concatenate "
   ]
  },
  {
   "cell_type": "markdown",
   "id": "328fb136",
   "metadata": {},
   "source": [
    "## 5.5. Stack"
   ]
  },
  {
   "cell_type": "markdown",
   "id": "00509d6a",
   "metadata": {},
   "source": [
    "## 5.6. Mở rộng mảng"
   ]
  },
  {
   "cell_type": "markdown",
   "id": "44eec190",
   "metadata": {},
   "source": [
    "Liên quan tới các tình huống dẫn tới lỗi liên quan tới shape"
   ]
  },
  {
   "cell_type": "code",
   "execution_count": 102,
   "id": "84e968f2",
   "metadata": {},
   "outputs": [
    {
     "data": {
      "text/plain": [
       "array([[193, 188, 153],\n",
       "       [232, 247, 231]])"
      ]
     },
     "execution_count": 102,
     "metadata": {},
     "output_type": "execute_result"
    }
   ],
   "source": [
    "X = np.random.randint(0, 255, (2, 3))\n",
    "X"
   ]
  },
  {
   "cell_type": "code",
   "execution_count": 98,
   "id": "64a2ba47",
   "metadata": {},
   "outputs": [
    {
     "data": {
      "text/plain": [
       "(2, 3, 1)"
      ]
     },
     "execution_count": 98,
     "metadata": {},
     "output_type": "execute_result"
    }
   ],
   "source": [
    "X1 = np.expand_dims(X, axis=-1)\n",
    "X1.shape"
   ]
  },
  {
   "cell_type": "code",
   "execution_count": 99,
   "id": "3cb1b9b0",
   "metadata": {},
   "outputs": [
    {
     "data": {
      "text/plain": [
       "(1, 2, 3)"
      ]
     },
     "execution_count": 99,
     "metadata": {},
     "output_type": "execute_result"
    }
   ],
   "source": [
    "np.expand_dims(X, axis=0).shape"
   ]
  },
  {
   "cell_type": "code",
   "execution_count": 100,
   "id": "3ab25d4d",
   "metadata": {},
   "outputs": [
    {
     "data": {
      "text/plain": [
       "(2, 1, 3)"
      ]
     },
     "execution_count": 100,
     "metadata": {},
     "output_type": "execute_result"
    }
   ],
   "source": [
    "np.expand_dims(X, axis=1).shape"
   ]
  },
  {
   "cell_type": "markdown",
   "id": "9d5eba54",
   "metadata": {},
   "source": [
    "# 6. Các hàm tính toán của numpy"
   ]
  },
  {
   "cell_type": "markdown",
   "id": "dfecfdfe",
   "metadata": {},
   "source": [
    "## 6.1. Min, max, mean, sum"
   ]
  },
  {
   "cell_type": "code",
   "execution_count": 105,
   "id": "92fde39d",
   "metadata": {},
   "outputs": [
    {
     "data": {
      "text/plain": [
       "array([[ 9, -4, -5,  3],\n",
       "       [-2,  5, -7, -3]])"
      ]
     },
     "execution_count": 105,
     "metadata": {},
     "output_type": "execute_result"
    }
   ],
   "source": [
    "X = np.random.randint(-10, 10, (2, 4))\n",
    "X"
   ]
  },
  {
   "cell_type": "code",
   "execution_count": 106,
   "id": "40c08b44",
   "metadata": {},
   "outputs": [
    {
     "data": {
      "text/plain": [
       "-7"
      ]
     },
     "execution_count": 106,
     "metadata": {},
     "output_type": "execute_result"
    }
   ],
   "source": [
    "#Tìm phần tử nhỏ nhất của X\n",
    "X.min()"
   ]
  },
  {
   "cell_type": "code",
   "execution_count": 107,
   "id": "c21945ab",
   "metadata": {},
   "outputs": [
    {
     "data": {
      "text/plain": [
       "array([-2, -4, -7, -3])"
      ]
     },
     "execution_count": 107,
     "metadata": {},
     "output_type": "execute_result"
    }
   ],
   "source": [
    "#Tìm phần tử nhỏ nhất của từng cột\n",
    "X.min(axis=0)"
   ]
  },
  {
   "cell_type": "code",
   "execution_count": 137,
   "id": "239bb9bf",
   "metadata": {},
   "outputs": [
    {
     "data": {
      "text/plain": [
       "array([-5, -7])"
      ]
     },
     "execution_count": 137,
     "metadata": {},
     "output_type": "execute_result"
    }
   ],
   "source": [
    "#Tìm phần tử nhỏ nhất của từng dòng\n",
    "X.min(axis=1)"
   ]
  },
  {
   "cell_type": "code",
   "execution_count": 138,
   "id": "eee8b82b",
   "metadata": {},
   "outputs": [
    {
     "data": {
      "text/plain": [
       "(4,)"
      ]
     },
     "execution_count": 138,
     "metadata": {},
     "output_type": "execute_result"
    }
   ],
   "source": [
    "#Để giữ nguyên số chiều như ban đầu ta dùng keepdims\n",
    "#Khi dùng keepdims chiều bị tiêu giảm sẽ được thay thế bằng 1\n",
    "X.min(axis=0).shape"
   ]
  },
  {
   "cell_type": "code",
   "execution_count": 140,
   "id": "fd0cf99c",
   "metadata": {},
   "outputs": [
    {
     "data": {
      "text/plain": [
       "(1, 4)"
      ]
     },
     "execution_count": 140,
     "metadata": {},
     "output_type": "execute_result"
    }
   ],
   "source": [
    "X.min(axis=0, keepdims=True).shape"
   ]
  },
  {
   "cell_type": "markdown",
   "id": "e88b8f5a",
   "metadata": {},
   "source": [
    "**Tương tự với các hàm còn lại**"
   ]
  },
  {
   "cell_type": "markdown",
   "id": "7866c66d",
   "metadata": {},
   "source": [
    "## 6.2. Minimum, maximum"
   ]
  },
  {
   "cell_type": "markdown",
   "id": "588c08ca",
   "metadata": {},
   "source": [
    "**Tìm ra giá trị lớn nhất nhỏ nhất cùng 1 vị trí của 2 mảng cùng kích thước**"
   ]
  },
  {
   "cell_type": "code",
   "execution_count": 112,
   "id": "f2cf997f",
   "metadata": {},
   "outputs": [
    {
     "name": "stdout",
     "output_type": "stream",
     "text": [
      "[[4 8 4 7]\n",
      " [7 3 2 8]\n",
      " [3 4 3 2]]\n",
      "[[ 2  3 -1 -1]\n",
      " [ 0  1 -1  3]\n",
      " [ 4  5  5  0]]\n"
     ]
    }
   ],
   "source": [
    "A = np.random.randint(2, 10, (3, 4))\n",
    "B = np.random.randint(-1, 7, (3, 4))\n",
    "print(A)\n",
    "print(B)"
   ]
  },
  {
   "cell_type": "code",
   "execution_count": 113,
   "id": "9dc77376",
   "metadata": {},
   "outputs": [
    {
     "data": {
      "text/plain": [
       "array([[ 2,  3, -1, -1],\n",
       "       [ 0,  1, -1,  3],\n",
       "       [ 3,  4,  3,  0]])"
      ]
     },
     "execution_count": 113,
     "metadata": {},
     "output_type": "execute_result"
    }
   ],
   "source": [
    "np.minimum(A, B)"
   ]
  },
  {
   "cell_type": "code",
   "execution_count": 114,
   "id": "7f95be79",
   "metadata": {},
   "outputs": [
    {
     "data": {
      "text/plain": [
       "array([[4, 8, 4, 7],\n",
       "       [7, 3, 2, 8],\n",
       "       [4, 5, 5, 2]])"
      ]
     },
     "execution_count": 114,
     "metadata": {},
     "output_type": "execute_result"
    }
   ],
   "source": [
    "np.maximum(A, B)"
   ]
  },
  {
   "cell_type": "markdown",
   "id": "00578cf4",
   "metadata": {},
   "source": [
    "## 6.3. argmin, argmax"
   ]
  },
  {
   "cell_type": "markdown",
   "id": "3f8987f1",
   "metadata": {},
   "source": [
    "**Tìm ra các vị trí min max**"
   ]
  },
  {
   "cell_type": "code",
   "execution_count": 116,
   "id": "538631de",
   "metadata": {},
   "outputs": [
    {
     "data": {
      "text/plain": [
       "array([[4, 8, 4, 7],\n",
       "       [7, 3, 2, 8],\n",
       "       [3, 4, 3, 2]])"
      ]
     },
     "execution_count": 116,
     "metadata": {},
     "output_type": "execute_result"
    }
   ],
   "source": [
    "A"
   ]
  },
  {
   "cell_type": "code",
   "execution_count": 117,
   "id": "c82a1b3f",
   "metadata": {},
   "outputs": [
    {
     "data": {
      "text/plain": [
       "6"
      ]
     },
     "execution_count": 117,
     "metadata": {},
     "output_type": "execute_result"
    }
   ],
   "source": [
    "np.argmin(A)"
   ]
  },
  {
   "cell_type": "code",
   "execution_count": 118,
   "id": "c74e06fb",
   "metadata": {},
   "outputs": [
    {
     "data": {
      "text/plain": [
       "1"
      ]
     },
     "execution_count": 118,
     "metadata": {},
     "output_type": "execute_result"
    }
   ],
   "source": [
    "np.argmax(A)"
   ]
  },
  {
   "cell_type": "markdown",
   "id": "5744d9f8",
   "metadata": {},
   "source": [
    "**Tìm ra vị trí min max của dòng và cột**"
   ]
  },
  {
   "cell_type": "code",
   "execution_count": 119,
   "id": "3e2cade2",
   "metadata": {},
   "outputs": [
    {
     "data": {
      "text/plain": [
       "array([0, 2, 3], dtype=int64)"
      ]
     },
     "execution_count": 119,
     "metadata": {},
     "output_type": "execute_result"
    }
   ],
   "source": [
    "#Dòng\n",
    "np.argmin(A, axis=1)"
   ]
  },
  {
   "cell_type": "code",
   "execution_count": 120,
   "id": "662f548e",
   "metadata": {},
   "outputs": [
    {
     "data": {
      "text/plain": [
       "array([2, 1, 1, 2], dtype=int64)"
      ]
     },
     "execution_count": 120,
     "metadata": {},
     "output_type": "execute_result"
    }
   ],
   "source": [
    "#Cột\n",
    "np.argmin(A, axis=0)"
   ]
  },
  {
   "cell_type": "code",
   "execution_count": 121,
   "id": "08aa3865",
   "metadata": {},
   "outputs": [],
   "source": [
    "#Tương tự cho argmax"
   ]
  },
  {
   "cell_type": "markdown",
   "id": "c2fac5f5",
   "metadata": {},
   "source": [
    "## 6.4. argsort"
   ]
  },
  {
   "cell_type": "markdown",
   "id": "a6bb58b9",
   "metadata": {},
   "source": [
    "**Tìm ra vị trị được sắp xếp theo thứ tự tăng dần của một mảng hoặc vector**"
   ]
  },
  {
   "cell_type": "code",
   "execution_count": 122,
   "id": "196a504a",
   "metadata": {},
   "outputs": [
    {
     "data": {
      "text/plain": [
       "array([[4, 8, 4, 7],\n",
       "       [7, 3, 2, 8],\n",
       "       [3, 4, 3, 2]])"
      ]
     },
     "execution_count": 122,
     "metadata": {},
     "output_type": "execute_result"
    }
   ],
   "source": [
    "A"
   ]
  },
  {
   "cell_type": "code",
   "execution_count": 125,
   "id": "b54c6d8f",
   "metadata": {},
   "outputs": [
    {
     "data": {
      "text/plain": [
       "array([[0, 2, 3, 1],\n",
       "       [2, 1, 0, 3],\n",
       "       [3, 0, 2, 1]], dtype=int64)"
      ]
     },
     "execution_count": 125,
     "metadata": {},
     "output_type": "execute_result"
    }
   ],
   "source": [
    "#Tăng dần theo dòng\n",
    "np.argsort(A, axis=1)"
   ]
  },
  {
   "cell_type": "code",
   "execution_count": 126,
   "id": "3c4fd436",
   "metadata": {},
   "outputs": [
    {
     "data": {
      "text/plain": [
       "array([[2, 1, 1, 2],\n",
       "       [0, 2, 2, 0],\n",
       "       [1, 0, 0, 1]], dtype=int64)"
      ]
     },
     "execution_count": 126,
     "metadata": {},
     "output_type": "execute_result"
    }
   ],
   "source": [
    "#Tăng dần theo cột\n",
    "np.argsort(A, axis=0)"
   ]
  },
  {
   "cell_type": "code",
   "execution_count": 131,
   "id": "026a59a9",
   "metadata": {},
   "outputs": [
    {
     "data": {
      "text/plain": [
       "array([[1, 3, 0, 2],\n",
       "       [3, 0, 1, 2],\n",
       "       [1, 0, 2, 3]], dtype=int64)"
      ]
     },
     "execution_count": 131,
     "metadata": {},
     "output_type": "execute_result"
    }
   ],
   "source": [
    "#Giảm dần theo dòng\n",
    "np.argsort(-A, axis=1)"
   ]
  },
  {
   "cell_type": "code",
   "execution_count": 132,
   "id": "207e37ef",
   "metadata": {},
   "outputs": [
    {
     "data": {
      "text/plain": [
       "array([[1, 0, 0, 1],\n",
       "       [0, 2, 2, 0],\n",
       "       [2, 1, 1, 2]], dtype=int64)"
      ]
     },
     "execution_count": 132,
     "metadata": {},
     "output_type": "execute_result"
    }
   ],
   "source": [
    "#Giảm dần theo cột\n",
    "np.argsort(-A, axis=0)"
   ]
  },
  {
   "cell_type": "markdown",
   "id": "2b3ebfa3",
   "metadata": {},
   "source": [
    "## 6.5. np.exp()"
   ]
  },
  {
   "cell_type": "code",
   "execution_count": 133,
   "id": "917d0e31",
   "metadata": {},
   "outputs": [
    {
     "data": {
      "text/plain": [
       "array([[4, 8, 4, 7],\n",
       "       [7, 3, 2, 8],\n",
       "       [3, 4, 3, 2]])"
      ]
     },
     "execution_count": 133,
     "metadata": {},
     "output_type": "execute_result"
    }
   ],
   "source": [
    "A"
   ]
  },
  {
   "cell_type": "code",
   "execution_count": 134,
   "id": "117715ad",
   "metadata": {},
   "outputs": [
    {
     "data": {
      "text/plain": [
       "array([[  54.59815003, 2980.95798704,   54.59815003, 1096.63315843],\n",
       "       [1096.63315843,   20.08553692,    7.3890561 , 2980.95798704],\n",
       "       [  20.08553692,   54.59815003,   20.08553692,    7.3890561 ]])"
      ]
     },
     "execution_count": 134,
     "metadata": {},
     "output_type": "execute_result"
    }
   ],
   "source": [
    "np.exp(A)"
   ]
  },
  {
   "cell_type": "markdown",
   "id": "4634c960",
   "metadata": {},
   "source": [
    "## 6.6. np.random.seed()"
   ]
  },
  {
   "cell_type": "markdown",
   "id": "cdf7c8bc",
   "metadata": {},
   "source": [
    "**Giữ cho kết quả của mỗi hàm sinh mảng được giữ nguyên sau mỗi lần gọi**"
   ]
  },
  {
   "cell_type": "code",
   "execution_count": 13,
   "id": "3d1cd6ef",
   "metadata": {},
   "outputs": [
    {
     "data": {
      "text/plain": [
       "array([[0.15416284, 0.7400497 , 0.26331502, 0.53373939],\n",
       "       [0.01457496, 0.91874701, 0.90071485, 0.03342143],\n",
       "       [0.95694934, 0.13720932, 0.28382835, 0.60608318]])"
      ]
     },
     "execution_count": 13,
     "metadata": {},
     "output_type": "execute_result"
    }
   ],
   "source": [
    "np.random.seed(12)\n",
    "np.random.rand(3, 4)"
   ]
  },
  {
   "cell_type": "code",
   "execution_count": 14,
   "id": "92064de7",
   "metadata": {},
   "outputs": [
    {
     "data": {
      "text/plain": [
       "array([[0.15416284, 0.7400497 , 0.26331502, 0.53373939],\n",
       "       [0.01457496, 0.91874701, 0.90071485, 0.03342143],\n",
       "       [0.95694934, 0.13720932, 0.28382835, 0.60608318]])"
      ]
     },
     "execution_count": 14,
     "metadata": {},
     "output_type": "execute_result"
    }
   ],
   "source": [
    "np.random.seed(12)\n",
    "np.random.rand(3, 4)"
   ]
  },
  {
   "cell_type": "markdown",
   "id": "dee0b796",
   "metadata": {},
   "source": [
    "**Bài tập**: Cho một tập dữ liệu có kích thước là 100. Hãy tìm cách phân chia dữ liệu thành tập train và tập test một cách ngẫu nhiên theo tỉ lệ 70, 30."
   ]
  },
  {
   "cell_type": "code",
   "execution_count": null,
   "id": "397dcd22",
   "metadata": {},
   "outputs": [],
   "source": [
    "#Ta sử dụng np.random.choice để chọn mảng các phần tử không trùng lặp nhau, đó chính là chỉ số của phần tử của các tập\n",
    "#Trước đó gọi np.random.seed để lưu kết quả trên\n",
    "#Bài làm"
   ]
  },
  {
   "cell_type": "code",
   "execution_count": 24,
   "id": "80ad1843",
   "metadata": {},
   "outputs": [
    {
     "data": {
      "text/plain": [
       "array([80, 84, 33, 81, 93, 17, 36, 82, 69, 65, 92, 39, 56, 52, 51, 32, 31,\n",
       "       44, 78, 10,  2, 73, 97, 62, 19, 35, 94, 27, 46, 38, 67, 99, 54, 95,\n",
       "       88, 40, 48, 59, 23, 34, 86, 53, 77, 15, 83, 41, 45, 91, 26, 98, 43,\n",
       "       55, 24,  4, 58, 49, 21, 87,  3, 74, 30, 66, 70, 42, 47, 89,  8, 60,\n",
       "        0, 90])"
      ]
     },
     "execution_count": 24,
     "metadata": {},
     "output_type": "execute_result"
    }
   ],
   "source": [
    "np.random.seed(1)\n",
    "Train_idx = np.random.choice(range(100), size=70, replace=False)\n",
    "Train"
   ]
  },
  {
   "cell_type": "code",
   "execution_count": 26,
   "id": "11929e6c",
   "metadata": {},
   "outputs": [
    {
     "data": {
      "text/plain": [
       "array([ 1,  5,  6,  7,  9, 11, 12, 13, 14, 16, 18, 20, 22, 25, 28, 29, 37,\n",
       "       50, 57, 61, 63, 64, 68, 71, 72, 75, 76, 79, 85, 96])"
      ]
     },
     "execution_count": 26,
     "metadata": {},
     "output_type": "execute_result"
    }
   ],
   "source": [
    "Test_idx = [i for i in range(100) if i not in Train]\n",
    "np.array(Test_idx)"
   ]
  },
  {
   "cell_type": "code",
   "execution_count": 28,
   "id": "1949b64f",
   "metadata": {},
   "outputs": [
    {
     "data": {
      "text/plain": [
       "array([ 5.35059149,  8.51586592,  3.54478734,  6.02993826,  3.60816404,\n",
       "        8.55728167,  6.82977724,  6.63149193,  6.42283229,  4.65738021,\n",
       "        4.5930559 ,  5.84433407,  7.71376802,  4.5775539 ,  7.64542876,\n",
       "        1.81156254,  4.80896829,  4.38896202,  5.45792632,  4.00092344,\n",
       "        4.95055784,  4.40445659,  4.80976261,  5.52926398,  3.06898672,\n",
       "        4.86339055,  7.03774862,  5.0162512 ,  1.43170108,  5.56135277,\n",
       "        6.54520668,  4.43298535,  4.85451224,  5.96752128,  6.85223487,\n",
       "        1.30571526,  5.53390358,  4.78024071,  3.58766161,  3.41733241,\n",
       "        4.23546907,  6.05064016,  5.37110369,  7.66383045,  5.73565946,\n",
       "        2.44340991,  4.75278213,  3.89327628,  7.0953087 ,  5.43844867,\n",
       "        3.61608613,  6.6144653 ,  4.22314315,  2.26833596,  7.63891754,\n",
       "        2.98916662,  4.08069652,  5.4269489 ,  4.5277486 ,  1.58656947,\n",
       "        2.44457749,  3.6210425 ,  5.05638276,  4.15103661,  5.3519319 ,\n",
       "        2.88238715,  4.42886337,  2.5962823 ,  2.72766095,  6.85614395,\n",
       "        5.18805851,  8.01522321,  7.2570459 ,  5.25537669,  4.85714637,\n",
       "        3.84143042,  5.99400602,  7.27383796,  6.48564908,  6.97080793,\n",
       "        6.37693262,  4.17486129,  5.42689498,  3.8634107 ,  5.19439251,\n",
       "        2.27318873,  4.88701315,  6.8365418 ,  5.48815881,  5.50003626,\n",
       "        5.25137966,  2.75018878,  2.00493142,  4.64957071,  3.17523667,\n",
       "       -0.4748665 ,  9.11614068,  5.12989117,  1.77132798,  6.87714895])"
      ]
     },
     "execution_count": 28,
     "metadata": {},
     "output_type": "execute_result"
    }
   ],
   "source": [
    "data = np.random.normal(loc=5, scale=2, size=100)\n",
    "data"
   ]
  },
  {
   "cell_type": "code",
   "execution_count": 30,
   "id": "cf7b19aa",
   "metadata": {},
   "outputs": [
    {
     "data": {
      "text/plain": [
       "array([ 6.37693262,  5.19439251,  5.96752128,  4.17486129,  4.64957071,\n",
       "        4.38896202,  5.53390358,  5.42689498,  6.85614395,  2.88238715,\n",
       "        2.00493142,  3.41733241,  4.08069652,  4.22314315,  6.6144653 ,\n",
       "        4.85451224,  4.43298535,  5.73565946,  6.48564908,  4.5930559 ,\n",
       "        3.54478734,  5.25537669,  5.12989117,  5.05638276,  4.00092344,\n",
       "        1.30571526,  3.17523667,  5.0162512 ,  4.75278213,  3.58766161,\n",
       "        2.5962823 ,  6.87714895,  7.63891754, -0.4748665 ,  5.48815881,\n",
       "        4.23546907,  7.0953087 ,  1.58656947,  5.52926398,  6.85223487,\n",
       "        4.88701315,  2.26833596,  7.27383796,  1.81156254,  3.8634107 ,\n",
       "        6.05064016,  2.44340991,  2.75018878,  7.03774862,  1.77132798,\n",
       "        7.66383045,  2.98916662,  3.06898672,  3.60816404,  4.5277486 ,\n",
       "        5.43844867,  4.40445659,  6.8365418 ,  6.02993826,  4.85714637,\n",
       "        6.54520668,  4.42886337,  5.18805851,  5.37110369,  3.89327628,\n",
       "        5.50003626,  6.42283229,  2.44457749,  5.35059149,  5.25137966])"
      ]
     },
     "execution_count": 30,
     "metadata": {},
     "output_type": "execute_result"
    }
   ],
   "source": [
    "train = [data[i] for i in Train_idx]\n",
    "np.array(train)"
   ]
  },
  {
   "cell_type": "code",
   "execution_count": 31,
   "id": "368a3ea7",
   "metadata": {},
   "outputs": [
    {
     "data": {
      "text/plain": [
       "array([8.51586592, 8.55728167, 6.82977724, 6.63149193, 4.65738021,\n",
       "       5.84433407, 7.71376802, 4.5775539 , 7.64542876, 4.80896829,\n",
       "       5.45792632, 4.95055784, 4.80976261, 4.86339055, 1.43170108,\n",
       "       5.56135277, 4.78024071, 3.61608613, 5.4269489 , 3.6210425 ,\n",
       "       4.15103661, 5.3519319 , 2.72766095, 8.01522321, 7.2570459 ,\n",
       "       3.84143042, 5.99400602, 6.97080793, 2.27318873, 9.11614068])"
      ]
     },
     "execution_count": 31,
     "metadata": {},
     "output_type": "execute_result"
    }
   ],
   "source": [
    "test = [data[i] for i in Test_idx]\n",
    "np.array(test)"
   ]
  },
  {
   "cell_type": "code",
   "execution_count": null,
   "id": "7252f148",
   "metadata": {},
   "outputs": [],
   "source": []
  }
 ],
 "metadata": {
  "kernelspec": {
   "display_name": "Python 3",
   "language": "python",
   "name": "python3"
  },
  "language_info": {
   "codemirror_mode": {
    "name": "ipython",
    "version": 3
   },
   "file_extension": ".py",
   "mimetype": "text/x-python",
   "name": "python",
   "nbconvert_exporter": "python",
   "pygments_lexer": "ipython3",
   "version": "3.8.8"
  }
 },
 "nbformat": 4,
 "nbformat_minor": 5
}
