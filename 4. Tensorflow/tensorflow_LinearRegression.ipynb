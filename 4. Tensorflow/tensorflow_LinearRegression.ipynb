{
  "nbformat": 4,
  "nbformat_minor": 0,
  "metadata": {
    "colab": {
      "name": "tensorflow_LinearRegression.ipynb",
      "provenance": [],
      "collapsed_sections": [],
      "authorship_tag": "ABX9TyM+xKWFmNIwgx3ZsChO6P4m",
      "include_colab_link": true
    },
    "kernelspec": {
      "name": "python3",
      "display_name": "Python 3"
    },
    "language_info": {
      "name": "python"
    }
  },
  "cells": [
    {
      "cell_type": "markdown",
      "metadata": {
        "id": "view-in-github",
        "colab_type": "text"
      },
      "source": [
        "<a href=\"https://colab.research.google.com/github/htdung167/learn-machine-learning/blob/main/4.%20Tensorflow/tensorflow_LinearRegression.ipynb\" target=\"_parent\"><img src=\"https://colab.research.google.com/assets/colab-badge.svg\" alt=\"Open In Colab\"/></a>"
      ]
    },
    {
      "cell_type": "code",
      "execution_count": 1,
      "metadata": {
        "id": "scCfEmbZj7Jz"
      },
      "outputs": [],
      "source": [
        "import tensorflow as tf"
      ]
    },
    {
      "cell_type": "code",
      "source": [
        "X = tf.transpose(tf.convert_to_tensor([[6.7,4.6,3.5,5.5]])).numpy()\n",
        "y = tf.transpose(tf.convert_to_tensor([[9.1, 5.9, 4.6, 6.7]])).numpy()\n",
        "print(X)\n",
        "print(y)"
      ],
      "metadata": {
        "colab": {
          "base_uri": "https://localhost:8080/"
        },
        "id": "VFHyCV3g83v7",
        "outputId": "63324f90-6d63-4539-85a1-93079f3659a8"
      },
      "execution_count": 26,
      "outputs": [
        {
          "output_type": "stream",
          "name": "stdout",
          "text": [
            "[[6.7]\n",
            " [4.6]\n",
            " [3.5]\n",
            " [5.5]]\n",
            "[[9.1]\n",
            " [5.9]\n",
            " [4.6]\n",
            " [6.7]]\n"
          ]
        }
      ]
    },
    {
      "cell_type": "code",
      "source": [
        "class Model():\n",
        "  def __init__(self):\n",
        "    self.w = tf.Variable(-0.34)\n",
        "    self.b = tf.Variable(0.04)\n",
        "\n",
        "  def __call__(self, x):\n",
        "    return self.w * x + self.b"
      ],
      "metadata": {
        "id": "WM6ANuWQld7j"
      },
      "execution_count": 37,
      "outputs": []
    },
    {
      "cell_type": "code",
      "source": [
        "### training \n",
        "epochs = 100\n",
        "learning_rate = 0.01\n",
        "model = Model()\n",
        "losses = []\n",
        "\n",
        "for epoch in range(epochs):\n",
        "  with tf.GradientTape() as t:\n",
        "\n",
        "    # y_hat \n",
        "    y_hat = model(X)\n",
        "\n",
        "    #loss\n",
        "    loss_v = tf.reduce_mean(tf.square(y_hat-y))\n",
        "\n",
        "    #save lose\n",
        "    losses.append(loss_v.numpy())\n",
        "\n",
        "    #gradient compute\n",
        "    dw, db = t.gradient(loss_v, [model.w, model.b])\n",
        "\n",
        "    #update\n",
        "    model.w.assign_sub(learning_rate * dw)\n",
        "    model.b.assign_sub(learning_rate * db)"
      ],
      "metadata": {
        "id": "D2cIk3th_GqD"
      },
      "execution_count": 40,
      "outputs": []
    },
    {
      "cell_type": "code",
      "source": [
        "import matplotlib.pyplot as plt\n",
        "\n",
        "plt.plot(losses)\n",
        "plt.xlabel('iteration')\n",
        "plt.ylabel('loss')\n",
        "plt.show()"
      ],
      "metadata": {
        "colab": {
          "base_uri": "https://localhost:8080/",
          "height": 279
        },
        "id": "TR6-df_n_H1u",
        "outputId": "a9e20301-f045-43a2-97b8-190fdc2b92a6"
      },
      "execution_count": 41,
      "outputs": [
        {
          "output_type": "display_data",
          "data": {
            "image/png": "[encoded data removed]",
            "text/plain": [
              "<Figure size 432x288 with 1 Axes>"
            ]
          },
          "metadata": {
            "needs_background": "light"
          }
        }
      ]
    },
    {
      "cell_type": "code",
      "source": [
        ""
      ],
      "metadata": {
        "id": "XESP49SdIWDD"
      },
      "execution_count": null,
      "outputs": []
    }
  ]
}