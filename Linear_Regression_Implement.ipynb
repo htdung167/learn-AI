{
  "nbformat": 4,
  "nbformat_minor": 0,
  "metadata": {
    "colab": {
      "name": "CaiDatGradientDescent.ipynb",
      "provenance": [],
      "collapsed_sections": []
    },
    "kernelspec": {
      "name": "python3",
      "display_name": "Python 3"
    },
    "language_info": {
      "name": "python"
    }
  },
  "cells": [
    {
      "cell_type": "markdown",
      "source": [
        "#**Thông tin sinh viên:**"
      ],
      "metadata": {
        "id": "PWtE4irLyLZa"
      }
    },
    {
      "cell_type": "markdown",
      "source": [
        "* MSSV: 19521388\n",
        "* Họ và tên: Hoàng Tiến Dũng\n",
        "* Lớp môn học: CS331.M11\n",
        "* Bài tập: Cài đặt thuật toán Gradient Descent bằng Numpy và Tensorflow"
      ],
      "metadata": {
        "id": "nd1GUKQKyN1Z"
      }
    },
    {
      "cell_type": "markdown",
      "source": [
        "#**Bài làm:**"
      ],
      "metadata": {
        "id": "V-UDs0xpydNF"
      }
    },
    {
      "cell_type": "code",
      "execution_count": 4,
      "metadata": {
        "id": "QbQtiH-MZkwk"
      },
      "outputs": [],
      "source": [
        "import numpy as np\n",
        "import tensorflow as tf\n",
        "import pandas as pd"
      ]
    },
    {
      "cell_type": "markdown",
      "source": [
        "#**cost = 1/2m * sum((X*theta - y)^2**"
      ],
      "metadata": {
        "id": "eeyefS2lc_bm"
      }
    },
    {
      "cell_type": "markdown",
      "source": [
        "#**I. Implement Gradient Descent theo Numpy**"
      ],
      "metadata": {
        "id": "1tRaevS9dCgM"
      }
    },
    {
      "cell_type": "code",
      "source": [
        "def cost_func(X, y, theta):\n",
        "  # y là 1 vector cột\n",
        "  m = len(y)\n",
        "  y_pred = X@theta\n",
        "  return (1/(2*m)) * np.sum((y_pred-y)**2)"
      ],
      "metadata": {
        "id": "MV4w9WPnaIb9"
      },
      "execution_count": 104,
      "outputs": []
    },
    {
      "cell_type": "code",
      "source": [
        "def gradient_descent(X, y, theta, alpha, iters):\n",
        "  m = len(y)\n",
        "  costs = []\n",
        "  for i in range(iters):\n",
        "    y_pred = X@theta\n",
        "    theta -= (alpha/m * (X.T@(y_pred-y))) #Vector hóa\n",
        "    costs.append(cost_func(X, y,theta))\n",
        "  return theta, costs"
      ],
      "metadata": {
        "id": "gJidamEdc2wy"
      },
      "execution_count": 105,
      "outputs": []
    },
    {
      "cell_type": "markdown",
      "source": [
        "#**II. Implement Gradient Descent theo Tensorflow**"
      ],
      "metadata": {
        "id": "E4jpMO6CoN2S"
      }
    },
    {
      "cell_type": "code",
      "source": [
        "def cost_func_tf(X, y, theta):\n",
        "  # y là 1 vector cột\n",
        "  y_pred = tf.matmul(X, theta)\n",
        "  return 1/2 * tf.reduce_mean(tf.square(y_pred-y))"
      ],
      "metadata": {
        "id": "KknLYte1urLw"
      },
      "execution_count": 106,
      "outputs": []
    },
    {
      "cell_type": "code",
      "source": [
        "def gradient_descent_tf(X, y, theta, alpha, iters):\n",
        "  costs = []\n",
        "  for iter in range(iters):\n",
        "    with tf.GradientTape() as t:\n",
        "      t.watch(theta)\n",
        "      cost_f = cost_func_tf(X, y, theta)\n",
        "      dtheta = t.gradient(cost_f,theta)\n",
        "      theta -= alpha*dtheta\n",
        "\n",
        "      costs.append(cost_f)\n",
        "  costs.append(cost_func_tf(X, y, theta))\n",
        "  return theta, costs"
      ],
      "metadata": {
        "id": "KoAKiVSsl_ZY"
      },
      "execution_count": 123,
      "outputs": []
    },
    {
      "cell_type": "markdown",
      "source": [
        "#**III.Thử nghiệm**"
      ],
      "metadata": {
        "id": "0u-ZpQ8PgsZX"
      }
    },
    {
      "cell_type": "markdown",
      "source": [
        "##**1. Dữ liệu**"
      ],
      "metadata": {
        "id": "5Gx6dt8OwA-E"
      }
    },
    {
      "cell_type": "code",
      "source": [
        "from google.colab import drive\n",
        "drive.mount(\"/content/drive\")"
      ],
      "metadata": {
        "colab": {
          "base_uri": "https://localhost:8080/"
        },
        "id": "co9Y9d3AgvH2",
        "outputId": "1fdb11d7-0ce9-40a1-df1f-8025d35b8910"
      },
      "execution_count": 108,
      "outputs": [
        {
          "output_type": "stream",
          "name": "stdout",
          "text": [
            "Drive already mounted at /content/drive; to attempt to forcibly remount, call drive.mount(\"/content/drive\", force_remount=True).\n"
          ]
        }
      ]
    },
    {
      "cell_type": "code",
      "source": [
        "df = pd.read_csv('/content/drive/MyDrive/Private_ThiGiacMayTinhNangCao/Real estate.csv', index_col=0)\n",
        "df_new = df.drop(df.columns[[0,2]], axis=1)\n",
        "X = df_new.iloc[:,0:4]\n",
        "y = df_new.iloc[:,-1]"
      ],
      "metadata": {
        "id": "iwbrqFdPhFM8"
      },
      "execution_count": 109,
      "outputs": []
    },
    {
      "cell_type": "code",
      "source": [
        "X=X.to_numpy()\n",
        "y=y.to_numpy()\n",
        "print(X)\n",
        "print(y)"
      ],
      "metadata": {
        "colab": {
          "base_uri": "https://localhost:8080/"
        },
        "id": "g4BpMbQniBHS",
        "outputId": "5f435afe-0e0b-44d4-c1c6-b3fd9d340892"
      },
      "execution_count": 110,
      "outputs": [
        {
          "output_type": "stream",
          "name": "stdout",
          "text": [
            "[[ 32.       10.       24.98298 121.54024]\n",
            " [ 19.5       9.       24.98034 121.53951]\n",
            " [ 13.3       5.       24.98746 121.54391]\n",
            " ...\n",
            " [ 18.8       7.       24.97923 121.53986]\n",
            " [  8.1       5.       24.96674 121.54067]\n",
            " [  6.5       9.       24.97433 121.5431 ]]\n",
            "[ 37.9  42.2  47.3  54.8  43.1  32.1  40.3  46.7  18.8  22.1  41.4  58.1\n",
            "  39.3  23.8  34.3  50.5  70.1  37.4  42.3  47.7  29.3  51.6  24.6  47.9\n",
            "  38.8  27.   56.2  33.6  47.   57.1  22.1  25.   34.2  49.3  55.1  27.3\n",
            "  22.9  25.3  47.7  46.2  15.9  18.2  34.7  34.1  53.9  38.3  42.   61.5\n",
            "  13.4  13.2  44.2  20.7  27.   38.9  51.7  13.7  41.9  53.5  22.6  42.4\n",
            "  21.3  63.2  27.7  55.   25.3  44.3  50.7  56.8  36.2  42.   59.   40.8\n",
            "  36.3  20.   54.4  29.5  36.8  25.6  29.8  26.5  40.3  36.8  48.1  17.7\n",
            "  43.7  50.8  27.   18.3  48.   25.3  45.4  43.2  21.8  16.1  41.   51.8\n",
            "  59.5  34.6  51.   62.2  38.2  32.9  54.4  45.7  30.5  71.   47.1  26.6\n",
            "  34.1  28.4  51.6  39.4  23.1   7.6  53.3  46.4  12.2  13.   30.6  59.6\n",
            "  31.3  48.   32.5  45.5  57.4  48.6  62.9  55.   60.7  41.   37.5  30.7\n",
            "  37.5  39.5  42.2  20.8  46.8  47.4  43.5  42.5  51.4  28.9  37.5  40.1\n",
            "  28.4  45.5  52.2  43.2  45.1  39.7  48.5  44.7  28.9  40.9  20.7  15.6\n",
            "  18.3  35.6  39.4  37.4  57.8  39.6  11.6  55.5  55.2  30.6  73.6  43.4\n",
            "  37.4  23.5  14.4  58.8  58.1  35.1  45.2  36.5  19.2  42.   36.7  42.6\n",
            "  15.5  55.9  23.6  18.8  21.8  21.5  25.7  22.   44.3  20.5  42.3  37.8\n",
            "  42.7  49.3  29.3  34.6  36.6  48.2  39.1  31.6  25.5  45.9  31.5  46.1\n",
            "  26.6  21.4  44.   34.2  26.2  40.9  52.2  43.5  31.1  58.   20.9  48.1\n",
            "  39.7  40.8  43.8  40.2  78.3  38.5  48.5  42.3  46.   49.   12.8  40.2\n",
            "  46.6  19.   33.4  14.7  17.4  32.4  23.9  39.3  61.9  39.   40.6  29.7\n",
            "  28.8  41.4  33.4  48.2  21.7  40.8  40.6  23.1  22.3  15.   30.   13.8\n",
            "  52.7  25.9  51.8  17.4  26.5  43.9  63.3  28.8  30.7  24.4  53.   31.7\n",
            "  40.6  38.1  23.7  41.1  40.1  23.  117.5  26.5  40.5  29.3  41.   49.7\n",
            "  34.   27.7  44.   31.1  45.4  44.8  25.6  23.5  34.4  55.3  56.3  32.9\n",
            "  51.   44.5  37.   54.4  24.5  42.5  38.1  21.8  34.1  28.5  16.7  46.1\n",
            "  36.9  35.7  23.2  38.4  29.4  55.   50.2  24.7  53.   19.1  24.7  42.2\n",
            "  78.   42.8  41.6  27.3  42.   37.5  49.8  26.9  18.6  37.7  33.1  42.5\n",
            "  31.3  38.1  62.1  36.7  23.6  19.2  12.8  15.6  39.6  38.4  22.8  36.5\n",
            "  35.6  30.9  36.3  50.4  42.9  37.   53.5  46.6  41.2  37.9  30.8  11.2\n",
            "  53.7  47.   42.3  28.6  25.7  31.3  30.1  60.7  45.3  44.9  45.1  24.7\n",
            "  47.1  63.3  40.   48.   33.1  29.5  24.8  20.9  43.1  22.8  42.1  51.7\n",
            "  41.5  52.2  49.5  23.8  30.5  56.8  37.4  69.7  53.3  47.3  29.3  40.3\n",
            "  12.9  46.6  55.3  25.6  27.3  67.7  38.6  31.3  35.3  40.3  24.7  42.5\n",
            "  31.9  32.2  23.   37.3  35.5  27.7  28.5  39.7  41.2  37.2  40.5  22.3\n",
            "  28.1  15.4  50.   40.6  52.5  63.9]\n"
          ]
        }
      ]
    },
    {
      "cell_type": "markdown",
      "source": [
        "##**2. Khởi tạo**"
      ],
      "metadata": {
        "id": "xOcGRsGhcCNN"
      }
    },
    {
      "cell_type": "code",
      "source": [
        "theta = np.zeros((5,1)) #4 đặc trưng, 5 giá trị\n",
        "X = np.append(np.ones((len(y),1)), X, axis=1)"
      ],
      "metadata": {
        "id": "OeFyYaqDkGkU"
      },
      "execution_count": 111,
      "outputs": []
    },
    {
      "cell_type": "code",
      "source": [
        "X"
      ],
      "metadata": {
        "colab": {
          "base_uri": "https://localhost:8080/"
        },
        "id": "0R97wLR-kz66",
        "outputId": "087d66cf-719d-4de1-8eee-a935f1ba1689"
      },
      "execution_count": 112,
      "outputs": [
        {
          "output_type": "execute_result",
          "data": {
            "text/plain": [
              "array([[  1.     ,  32.     ,  10.     ,  24.98298, 121.54024],\n",
              "       [  1.     ,  19.5    ,   9.     ,  24.98034, 121.53951],\n",
              "       [  1.     ,  13.3    ,   5.     ,  24.98746, 121.54391],\n",
              "       ...,\n",
              "       [  1.     ,  18.8    ,   7.     ,  24.97923, 121.53986],\n",
              "       [  1.     ,   8.1    ,   5.     ,  24.96674, 121.54067],\n",
              "       [  1.     ,   6.5    ,   9.     ,  24.97433, 121.5431 ]])"
            ]
          },
          "metadata": {},
          "execution_count": 112
        }
      ]
    },
    {
      "cell_type": "code",
      "source": [
        "y = y.reshape((414,1))\n",
        "y.shape"
      ],
      "metadata": {
        "colab": {
          "base_uri": "https://localhost:8080/"
        },
        "id": "vrDa1XPLk1ZM",
        "outputId": "2d18ffd0-df04-4a3b-ffc5-6928add19849"
      },
      "execution_count": 113,
      "outputs": [
        {
          "output_type": "execute_result",
          "data": {
            "text/plain": [
              "(414, 1)"
            ]
          },
          "metadata": {},
          "execution_count": 113
        }
      ]
    },
    {
      "cell_type": "markdown",
      "source": [
        "##**3. Gradient Descent với Numpy**"
      ],
      "metadata": {
        "id": "yH042dPJwV43"
      }
    },
    {
      "cell_type": "code",
      "source": [
        "theta = np.zeros((5,1))"
      ],
      "metadata": {
        "id": "6yWMXUjkmbXW"
      },
      "execution_count": 114,
      "outputs": []
    },
    {
      "cell_type": "code",
      "source": [
        "theta, costs = gradient_descent(X, y, theta, 0.1, 5)"
      ],
      "metadata": {
        "id": "bKE8TiR4gWnJ"
      },
      "execution_count": 115,
      "outputs": []
    },
    {
      "cell_type": "code",
      "source": [
        "print(theta)"
      ],
      "metadata": {
        "colab": {
          "base_uri": "https://localhost:8080/"
        },
        "id": "rDdMp6vjlbo6",
        "outputId": "756ad5f5-f244-4304-c820-414ec2d2dd59"
      },
      "execution_count": 116,
      "outputs": [
        {
          "output_type": "stream",
          "name": "stdout",
          "text": [
            "[[2.31444177e+13]\n",
            " [4.13358520e+14]\n",
            " [9.48579937e+13]\n",
            " [5.77893982e+14]\n",
            " [2.81281882e+15]]\n"
          ]
        }
      ]
    },
    {
      "cell_type": "code",
      "source": [
        "print(costs)"
      ],
      "metadata": {
        "colab": {
          "base_uri": "https://localhost:8080/"
        },
        "id": "HqMP5W6MlijO",
        "outputId": "87c4fe68-0389-419a-effc-63b6ca47ca22"
      },
      "execution_count": 117,
      "outputs": [
        {
          "output_type": "stream",
          "name": "stdout",
          "text": [
            "[1778751137.3586333, 4394465303534660.0, 1.0856681285285312e+22, 2.682181343842815e+28, 6.626423464239508e+34]\n"
          ]
        }
      ]
    },
    {
      "cell_type": "markdown",
      "source": [
        "##**4. Gradient Descent với Tensorflow**"
      ],
      "metadata": {
        "id": "PnIzsdDEwezU"
      }
    },
    {
      "cell_type": "code",
      "source": [
        "theta = np.zeros((5,1))"
      ],
      "metadata": {
        "id": "kvYsWHzbtvb4"
      },
      "execution_count": 124,
      "outputs": []
    },
    {
      "cell_type": "code",
      "source": [
        "X_tf = tf.convert_to_tensor(X)\n",
        "y_tf = tf.convert_to_tensor(y)\n",
        "theta_tf = tf.convert_to_tensor(theta)\n",
        "theta, costs = gradient_descent_tf(X_tf, y_tf, theta_tf, 0.1, 5)"
      ],
      "metadata": {
        "id": "lw2vUrRWsdvy"
      },
      "execution_count": 125,
      "outputs": []
    },
    {
      "cell_type": "code",
      "source": [
        "print(theta)"
      ],
      "metadata": {
        "colab": {
          "base_uri": "https://localhost:8080/"
        },
        "id": "rTHNBlElt3KW",
        "outputId": "eb3e7b96-64d7-444e-e3e2-3958145bc38f"
      },
      "execution_count": 126,
      "outputs": [
        {
          "output_type": "stream",
          "name": "stdout",
          "text": [
            "tf.Tensor(\n",
            "[[2.31444177e+13]\n",
            " [4.13358520e+14]\n",
            " [9.48579937e+13]\n",
            " [5.77893982e+14]\n",
            " [2.81281882e+15]], shape=(5, 1), dtype=float64)\n"
          ]
        }
      ]
    },
    {
      "cell_type": "code",
      "source": [
        "print(costs)"
      ],
      "metadata": {
        "colab": {
          "base_uri": "https://localhost:8080/"
        },
        "id": "3AvYu7OPvMH3",
        "outputId": "3191afdb-5f82-4454-c9de-8699b6c7b715"
      },
      "execution_count": 127,
      "outputs": [
        {
          "output_type": "stream",
          "name": "stdout",
          "text": [
            "[<tf.Tensor: shape=(), dtype=float64, numpy=813.5921980676328>, <tf.Tensor: shape=(), dtype=float64, numpy=1778751137.3586342>, <tf.Tensor: shape=(), dtype=float64, numpy=4394465303534663.5>, <tf.Tensor: shape=(), dtype=float64, numpy=1.085668128528533e+22>, <tf.Tensor: shape=(), dtype=float64, numpy=2.682181343842819e+28>, <tf.Tensor: shape=(), dtype=float64, numpy=6.626423464239521e+34>]\n"
          ]
        }
      ]
    },
    {
      "cell_type": "code",
      "source": [
        ""
      ],
      "metadata": {
        "id": "AryFq51Uwv-q"
      },
      "execution_count": null,
      "outputs": []
    }
  ]
}