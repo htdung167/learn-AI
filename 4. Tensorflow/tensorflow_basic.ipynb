{
  "nbformat": 4,
  "nbformat_minor": 0,
  "metadata": {
    "colab": {
      "name": "tensorflow_basic.ipynb",
      "provenance": [],
      "collapsed_sections": [],
      "toc_visible": true,
      "authorship_tag": "ABX9TyO+6Dphp5N9dWOgkuRZFQ6m",
      "include_colab_link": true
    },
    "kernelspec": {
      "name": "python3",
      "display_name": "Python 3"
    },
    "language_info": {
      "name": "python"
    }
  },
  "cells": [
    {
      "cell_type": "markdown",
      "metadata": {
        "id": "view-in-github",
        "colab_type": "text"
      },
      "source": [
        "<a href=\"https://colab.research.google.com/github/htdung167/learn-machine-learning/blob/main/4.%20Tensorflow/tensorflow_basic.ipynb\" target=\"_parent\"><img src=\"https://colab.research.google.com/assets/colab-badge.svg\" alt=\"Open In Colab\"/></a>"
      ]
    },
    {
      "cell_type": "code",
      "execution_count": 1,
      "metadata": {
        "colab": {
          "base_uri": "https://localhost:8080/"
        },
        "id": "_9y7NWkxMgmX",
        "outputId": "667059e8-e30f-4dcf-ab65-207647799d8b"
      },
      "outputs": [
        {
          "output_type": "stream",
          "name": "stdout",
          "text": [
            "2.7.0\n"
          ]
        }
      ],
      "source": [
        "import tensorflow as tf\n",
        "print(tf.__version__)"
      ]
    },
    {
      "cell_type": "code",
      "source": [
        "# Check GPU\n",
        "print(tf.config.list_physical_devices('GPU'))"
      ],
      "metadata": {
        "colab": {
          "base_uri": "https://localhost:8080/"
        },
        "id": "DyrjVrYmNdbn",
        "outputId": "1e7c374d-59ff-476c-8d83-0103e8d89c17"
      },
      "execution_count": 2,
      "outputs": [
        {
          "output_type": "stream",
          "name": "stdout",
          "text": [
            "[]\n"
          ]
        }
      ]
    },
    {
      "cell_type": "code",
      "source": [
        "# Check CPU\n",
        "tf.config.list_physical_devices('CPU')"
      ],
      "metadata": {
        "colab": {
          "base_uri": "https://localhost:8080/"
        },
        "id": "HLAtwHShMxFl",
        "outputId": "9e3cd1df-2040-4790-97b1-e84a3a298582"
      },
      "execution_count": 3,
      "outputs": [
        {
          "output_type": "execute_result",
          "data": {
            "text/plain": [
              "[PhysicalDevice(name='/physical_device:CPU:0', device_type='CPU')]"
            ]
          },
          "metadata": {},
          "execution_count": 3
        }
      ]
    },
    {
      "cell_type": "markdown",
      "source": [
        "##**Init**"
      ],
      "metadata": {
        "id": "aHVKvjV4PgyW"
      }
    },
    {
      "cell_type": "code",
      "source": [
        "import tensorflow as tf\n",
        "import numpy as np"
      ],
      "metadata": {
        "id": "7fgSMX8qNLhc"
      },
      "execution_count": 4,
      "outputs": []
    },
    {
      "cell_type": "code",
      "source": [
        "# create a ndarray\n",
        "a_list = [1, 2, 3, 4]\n",
        "data_np = np.array(a_list)\n",
        "print(type(data_np))\n",
        "print(data_np)"
      ],
      "metadata": {
        "colab": {
          "base_uri": "https://localhost:8080/"
        },
        "id": "fp4cOm8yPtF0",
        "outputId": "5c9fec44-6bef-47a0-bdbb-9beb2160ffdd"
      },
      "execution_count": 5,
      "outputs": [
        {
          "output_type": "stream",
          "name": "stdout",
          "text": [
            "<class 'numpy.ndarray'>\n",
            "[1 2 3 4]\n"
          ]
        }
      ]
    },
    {
      "cell_type": "code",
      "source": [
        "# convert from ndarray to tensor\n",
        "data_tf = tf.convert_to_tensor(data_np)\n",
        "print(data_tf)\n",
        "print(data_tf.shape)"
      ],
      "metadata": {
        "colab": {
          "base_uri": "https://localhost:8080/"
        },
        "id": "zXPZFfZ7QcDa",
        "outputId": "33dba7cd-6db0-4aae-e12a-a9b328cf09e0"
      },
      "execution_count": 6,
      "outputs": [
        {
          "output_type": "stream",
          "name": "stdout",
          "text": [
            "tf.Tensor([1 2 3 4], shape=(4,), dtype=int64)\n",
            "(4,)\n"
          ]
        }
      ]
    },
    {
      "cell_type": "code",
      "source": [
        "# reshape in tf\n",
        "data_tf_2 = tf.reshape(data_tf, (2,2))\n",
        "print(data_tf_2)"
      ],
      "metadata": {
        "colab": {
          "base_uri": "https://localhost:8080/"
        },
        "id": "UuB91aoaQdca",
        "outputId": "a5edd0cc-9827-4097-e6c0-0797c11765e2"
      },
      "execution_count": 7,
      "outputs": [
        {
          "output_type": "stream",
          "name": "stdout",
          "text": [
            "tf.Tensor(\n",
            "[[1 2]\n",
            " [3 4]], shape=(2, 2), dtype=int64)\n"
          ]
        }
      ]
    },
    {
      "cell_type": "code",
      "source": [
        "# convert from tensor to ndarray\n",
        "data_np_2 = data_tf_2.numpy()\n",
        "print(data_np_2)"
      ],
      "metadata": {
        "colab": {
          "base_uri": "https://localhost:8080/"
        },
        "id": "16Ork8XMQxKs",
        "outputId": "5fdddbb1-3767-4cef-ebf1-3d3a9ad6a554"
      },
      "execution_count": 8,
      "outputs": [
        {
          "output_type": "stream",
          "name": "stdout",
          "text": [
            "[[1 2]\n",
            " [3 4]]\n"
          ]
        }
      ]
    },
    {
      "cell_type": "markdown",
      "source": [
        "#**Broadcasting**"
      ],
      "metadata": {
        "id": "zSV__QIaRgBX"
      }
    },
    {
      "cell_type": "code",
      "source": [
        "tensor_1 = tf.convert_to_tensor([[1, 2], [3, 4]])\n",
        "tensor_2 = tf.convert_to_tensor([1,2])\n",
        "\n",
        "# add two tensor\n",
        "tensor_3 = tensor_1 + tensor_2\n",
        "\n",
        "print('tensor_1: \\n', tensor_1)\n",
        "print('tensor_2: \\n', tensor_2)\n",
        "print('tensor_3: \\n', tensor_3)"
      ],
      "metadata": {
        "colab": {
          "base_uri": "https://localhost:8080/"
        },
        "id": "CKf1zdn3RHMC",
        "outputId": "d3d1103e-69de-45b6-82e9-c2aee21096a1"
      },
      "execution_count": 9,
      "outputs": [
        {
          "output_type": "stream",
          "name": "stdout",
          "text": [
            "tensor_1: \n",
            " tf.Tensor(\n",
            "[[1 2]\n",
            " [3 4]], shape=(2, 2), dtype=int32)\n",
            "tensor_2: \n",
            " tf.Tensor([1 2], shape=(2,), dtype=int32)\n",
            "tensor_3: \n",
            " tf.Tensor(\n",
            "[[2 4]\n",
            " [4 6]], shape=(2, 2), dtype=int32)\n"
          ]
        }
      ]
    },
    {
      "cell_type": "code",
      "source": [
        "tensor_4 = tf.convert_to_tensor([[1, 2], [3, 4]])\n",
        "\n",
        "# add a number to a tensor\n",
        "tensor_5 = tensor_4 + 2\n",
        "\n",
        "print('tensor_4: \\n', tensor_4)\n",
        "print('tensor_5: \\n', tensor_5)"
      ],
      "metadata": {
        "colab": {
          "base_uri": "https://localhost:8080/"
        },
        "id": "kiWxpbIaRjOi",
        "outputId": "8f977ab9-bbf6-46ce-f14b-f3e8d2066495"
      },
      "execution_count": 10,
      "outputs": [
        {
          "output_type": "stream",
          "name": "stdout",
          "text": [
            "tensor_4: \n",
            " tf.Tensor(\n",
            "[[1 2]\n",
            " [3 4]], shape=(2, 2), dtype=int32)\n",
            "tensor_5: \n",
            " tf.Tensor(\n",
            "[[3 4]\n",
            " [5 6]], shape=(2, 2), dtype=int32)\n"
          ]
        }
      ]
    },
    {
      "cell_type": "markdown",
      "source": [
        "#**Math**"
      ],
      "metadata": {
        "id": "NG30z_s5TgSV"
      }
    },
    {
      "cell_type": "markdown",
      "source": [
        "##**Squared Difference**"
      ],
      "metadata": {
        "id": "hTUn2PdBTi0x"
      }
    },
    {
      "cell_type": "code",
      "source": [
        "# create a list\n",
        "x = [1,2,3,4]\n",
        "y = 5\n",
        "sd = tf.math.squared_difference(x, y)\n",
        "print(sd)"
      ],
      "metadata": {
        "colab": {
          "base_uri": "https://localhost:8080/"
        },
        "id": "yOEyQdM0S43p",
        "outputId": "cb891cbe-0a53-45f1-8c9b-c38699aab2ae"
      },
      "execution_count": 11,
      "outputs": [
        {
          "output_type": "stream",
          "name": "stdout",
          "text": [
            "tf.Tensor([16  9  4  1], shape=(4,), dtype=int32)\n"
          ]
        }
      ]
    },
    {
      "cell_type": "code",
      "source": [
        "# create a tensor\n",
        "x = tf.convert_to_tensor([1,2,3,4])\n",
        "y = 5\n",
        "\n",
        "sd = tf.math.squared_difference(x, y)\n",
        "print(sd)"
      ],
      "metadata": {
        "colab": {
          "base_uri": "https://localhost:8080/"
        },
        "id": "b-0b79LBTxJa",
        "outputId": "c411574a-80cb-49fc-a980-541e2e5b1819"
      },
      "execution_count": 12,
      "outputs": [
        {
          "output_type": "stream",
          "name": "stdout",
          "text": [
            "tf.Tensor([16  9  4  1], shape=(4,), dtype=int32)\n"
          ]
        }
      ]
    },
    {
      "cell_type": "code",
      "source": [
        "# create an ndarray\n",
        "x = np.array([1,2,3,4])\n",
        "y = 5\n",
        "sd = tf.math.squared_difference(x, y)\n",
        "print(sd)"
      ],
      "metadata": {
        "colab": {
          "base_uri": "https://localhost:8080/"
        },
        "id": "t2-3g_NjT5-J",
        "outputId": "114e541e-c4ad-43ca-8ada-094791d6979a"
      },
      "execution_count": 13,
      "outputs": [
        {
          "output_type": "stream",
          "name": "stdout",
          "text": [
            "tf.Tensor([16  9  4  1], shape=(4,), dtype=int64)\n"
          ]
        }
      ]
    },
    {
      "cell_type": "code",
      "source": [
        ""
      ],
      "metadata": {
        "id": "eA4fjQbyUFW6"
      },
      "execution_count": 13,
      "outputs": []
    },
    {
      "cell_type": "markdown",
      "source": [
        "#**Important functions**"
      ],
      "metadata": {
        "id": "D_ciXaFNJ4e6"
      }
    },
    {
      "cell_type": "code",
      "source": [
        "rand = tf.random.normal(shape=(3,2), mean=0, stddev=1)\n",
        "print(rand)"
      ],
      "metadata": {
        "colab": {
          "base_uri": "https://localhost:8080/"
        },
        "id": "GIXwps3IJ687",
        "outputId": "3ce3c59d-a50b-42e4-d70e-a1daab439dc2"
      },
      "execution_count": 14,
      "outputs": [
        {
          "output_type": "stream",
          "name": "stdout",
          "text": [
            "tf.Tensor(\n",
            "[[-0.8539857  -1.0091962 ]\n",
            " [-0.05310676 -1.7839335 ]\n",
            " [ 0.975181    0.07900026]], shape=(3, 2), dtype=float32)\n"
          ]
        }
      ]
    },
    {
      "cell_type": "code",
      "source": [
        "rand = tf.random.uniform(shape=(3,2), minval=0, maxval=9, dtype=tf.int32)\n",
        "print(rand)"
      ],
      "metadata": {
        "colab": {
          "base_uri": "https://localhost:8080/"
        },
        "id": "rWZn3j6bKI8Q",
        "outputId": "287566eb-3e79-4e4c-bc2a-79884c99b3b4"
      },
      "execution_count": 16,
      "outputs": [
        {
          "output_type": "stream",
          "name": "stdout",
          "text": [
            "tf.Tensor(\n",
            "[[8 1]\n",
            " [3 2]\n",
            " [1 8]], shape=(3, 2), dtype=int32)\n"
          ]
        }
      ]
    },
    {
      "cell_type": "code",
      "source": [
        "# concatenate\n",
        "tensor_1 = tf.random.uniform(shape=(2,2), minval=0, maxval=9, dtype=tf.int32)\n",
        "tensor_2 = tf.random.uniform(shape=(2,2), minval=0, maxval=9, dtype=tf.int32)\n",
        "\n",
        "tensor_3 = tf.concat([tensor_1, tensor_2], axis=0)\n",
        "tensor_4 = tf.concat([tensor_1, tensor_2], axis=1)\n",
        "\n",
        "print('tensor_1: \\n', tensor_1)\n",
        "print('tensor_2: \\n', tensor_2)\n",
        "print('tensor_3: \\n', tensor_3)\n",
        "print('tensor_4: \\n', tensor_4)\n",
        "\n"
      ],
      "metadata": {
        "colab": {
          "base_uri": "https://localhost:8080/"
        },
        "id": "LBngs7hIK7vv",
        "outputId": "7eae9810-cf0e-4362-ede1-975de7379157"
      },
      "execution_count": 18,
      "outputs": [
        {
          "output_type": "stream",
          "name": "stdout",
          "text": [
            "tensor_1: \n",
            " tf.Tensor(\n",
            "[[1 5]\n",
            " [7 4]], shape=(2, 2), dtype=int32)\n",
            "tensor_2: \n",
            " tf.Tensor(\n",
            "[[2 3]\n",
            " [4 6]], shape=(2, 2), dtype=int32)\n",
            "tensor_3: \n",
            " tf.Tensor(\n",
            "[[1 5]\n",
            " [7 4]\n",
            " [2 3]\n",
            " [4 6]], shape=(4, 2), dtype=int32)\n",
            "tensor_4: \n",
            " tf.Tensor(\n",
            "[[1 5 2 3]\n",
            " [7 4 4 6]], shape=(2, 4), dtype=int32)\n"
          ]
        }
      ]
    },
    {
      "cell_type": "code",
      "source": [
        "# argmax\n",
        "tensor = tf.random.uniform(shape=(3,6), minval=0, maxval=9, dtype=tf.int32)\n",
        "max_pos_1 = tf.argmax(tensor, axis=0)\n",
        "max_pos_2 = tf.argmax(tensor, axis=1)\n",
        "print(tensor)\n",
        "print(max_pos_1)\n",
        "print(max_pos_2)"
      ],
      "metadata": {
        "colab": {
          "base_uri": "https://localhost:8080/"
        },
        "id": "ksvvAhpkLmsJ",
        "outputId": "9752bdd0-2ffe-4259-a6cb-8ec86e2557df"
      },
      "execution_count": 20,
      "outputs": [
        {
          "output_type": "stream",
          "name": "stdout",
          "text": [
            "tf.Tensor(\n",
            "[[5 4 0 6 3 6]\n",
            " [5 2 7 6 5 7]\n",
            " [0 1 5 6 4 7]], shape=(3, 6), dtype=int32)\n",
            "tf.Tensor([0 0 1 0 1 1], shape=(6,), dtype=int64)\n",
            "tf.Tensor([3 2 5], shape=(3,), dtype=int64)\n"
          ]
        }
      ]
    },
    {
      "cell_type": "code",
      "source": [
        "# matmul : Tich vo huong\n",
        "matrix = tf.convert_to_tensor([[1,2],[3,4]])\n",
        "vector = tf.convert_to_tensor([1,2])\n",
        "\n",
        "vector = tf.reshape(vector, shape=(2,1))\n",
        "\n",
        "print(matrix)\n",
        "print(vector)\n",
        "print(\"Cach 1: \", tf.matmul(matrix, vector))\n",
        "print(\"Cach 2: \", matrix@vector)"
      ],
      "metadata": {
        "colab": {
          "base_uri": "https://localhost:8080/"
        },
        "id": "c_n85ZajSeNt",
        "outputId": "8a528a10-0d95-4638-ebef-abfc55136edf"
      },
      "execution_count": 26,
      "outputs": [
        {
          "output_type": "stream",
          "name": "stdout",
          "text": [
            "tf.Tensor(\n",
            "[[1 2]\n",
            " [3 4]], shape=(2, 2), dtype=int32)\n",
            "tf.Tensor(\n",
            "[[1]\n",
            " [2]], shape=(2, 1), dtype=int32)\n",
            "Cach 1:  tf.Tensor(\n",
            "[[ 5]\n",
            " [11]], shape=(2, 1), dtype=int32)\n",
            "Cach 2:  tf.Tensor(\n",
            "[[ 5]\n",
            " [11]], shape=(2, 1), dtype=int32)\n"
          ]
        }
      ]
    },
    {
      "cell_type": "code",
      "source": [
        "# Variable: Khi tính toán không tạo vùng nhớ mới\n",
        "var = tf.Variable([1.0, 2.0])\n",
        "print(var.numpy())\n",
        "\n",
        "var.assign([7,9])\n",
        "print(var.numpy())\n",
        "\n",
        "var.assign_add([5,3]) # + [5,3]\n",
        "print(var.numpy())\n",
        "\n",
        "var.assign_sub([2,3]) # - [2,3]\n",
        "print(var.numpy())"
      ],
      "metadata": {
        "colab": {
          "base_uri": "https://localhost:8080/"
        },
        "id": "1AaRGOwFT3U0",
        "outputId": "d2b24abe-ce85-4c76-a722-f8fbb7375401"
      },
      "execution_count": 31,
      "outputs": [
        {
          "output_type": "stream",
          "name": "stdout",
          "text": [
            "[1. 2.]\n",
            "[7. 9.]\n",
            "[12. 12.]\n",
            "[10.  9.]\n"
          ]
        }
      ]
    },
    {
      "cell_type": "code",
      "source": [
        "# Reduce sum : Cộng tổng lại và giảm chiều\n",
        "x = tf.convert_to_tensor([1,2,3,4])\n",
        "sum_value = tf.reduce_sum(x)\n",
        "print(sum_value)"
      ],
      "metadata": {
        "colab": {
          "base_uri": "https://localhost:8080/"
        },
        "id": "cySZq_Y2XDoC",
        "outputId": "a4b55540-d38d-429a-ffe1-95cfdcc79677"
      },
      "execution_count": 33,
      "outputs": [
        {
          "output_type": "stream",
          "name": "stdout",
          "text": [
            "tf.Tensor(10, shape=(), dtype=int32)\n"
          ]
        }
      ]
    },
    {
      "cell_type": "markdown",
      "source": [
        "#**Gradient computation**"
      ],
      "metadata": {
        "id": "LInPRQPcWd32"
      }
    },
    {
      "cell_type": "code",
      "source": [
        "import tensorflow as tf\n",
        "\n",
        "x = tf.ones((2,2))\n",
        "\n",
        "with tf.GradientTape() as t:\n",
        "  t.watch(x)\n",
        "  y = tf.reduce_sum(x) # y = x1 + x2 + x3 + x4\n",
        "  z = tf.multiply(y,y) # z = y^2\n",
        "\n",
        "dz_dx = t.gradient(z, x)\n",
        "\n",
        "print(x)\n",
        "print(dz_dx)"
      ],
      "metadata": {
        "colab": {
          "base_uri": "https://localhost:8080/"
        },
        "id": "3S8lmoGqWf0p",
        "outputId": "e800dac4-acb6-45fb-b916-a26593ecb8d2"
      },
      "execution_count": 2,
      "outputs": [
        {
          "output_type": "stream",
          "name": "stdout",
          "text": [
            "tf.Tensor(\n",
            "[[1. 1.]\n",
            " [1. 1.]], shape=(2, 2), dtype=float32)\n",
            "tf.Tensor(\n",
            "[[8. 8.]\n",
            " [8. 8.]], shape=(2, 2), dtype=float32)\n"
          ]
        }
      ]
    },
    {
      "cell_type": "code",
      "source": [
        "x = tf.constant(3.0)\n",
        "\n",
        "with tf.GradientTape(persistent=True) as t: \n",
        "  # khi tính đạo hàm nhiều lần nên có persistent = True \n",
        "  t.watch(x)\n",
        "  y = x*x # y = x*x\n",
        "  z = y*y # z = y*y\n",
        "\n",
        "# compute derivative\n",
        "dz_dx = t.gradient(z, x)\n",
        "dy_dx = t.gradient(y, x)\n",
        "\n",
        "print(dz_dx)\n",
        "print(dy_dx)"
      ],
      "metadata": {
        "colab": {
          "base_uri": "https://localhost:8080/"
        },
        "id": "rPHbkkIbczLh",
        "outputId": "5a85b52a-cbaa-44bb-bc8f-dd9004121393"
      },
      "execution_count": 4,
      "outputs": [
        {
          "output_type": "stream",
          "name": "stdout",
          "text": [
            "tf.Tensor(108.0, shape=(), dtype=float32)\n",
            "tf.Tensor(6.0, shape=(), dtype=float32)\n"
          ]
        }
      ]
    },
    {
      "cell_type": "code",
      "source": [
        "x = tf.Variable(1.0) # có variable nên gradient tự tìm\n",
        "\n",
        "with tf.GradientTape() as t1:\n",
        "  # t1.watch(x)\n",
        "  with tf.GradientTape() as t2:\n",
        "    # t2.watch(x)\n",
        "    y = x*x*x  # y = x^3\n",
        "  dy_dx = t2.gradient(y,x)  # y'\n",
        "\n",
        "d2y_d2x = t1.gradient(dy_dx, x) #y''\n",
        "\n",
        "print(dy_dx)\n",
        "print(d2y_d2x)"
      ],
      "metadata": {
        "colab": {
          "base_uri": "https://localhost:8080/"
        },
        "id": "R94xIiBhevw7",
        "outputId": "26bb53a9-11a7-491b-9f29-1897072e76f3"
      },
      "execution_count": 23,
      "outputs": [
        {
          "output_type": "stream",
          "name": "stdout",
          "text": [
            "tf.Tensor(3.0, shape=(), dtype=float32)\n",
            "tf.Tensor(6.0, shape=(), dtype=float32)\n"
          ]
        }
      ]
    },
    {
      "cell_type": "code",
      "source": [
        "x = tf.ones((1)) * 2\n",
        "\n",
        "with tf.GradientTape() as t:\n",
        "  t.watch(x)\n",
        "  g = -3 * x + 4 # g = -3*x+4\n",
        "  h = 2 * g + 1 # h = 2*g+1\n",
        "\n",
        "dh_dx = t.gradient(h, x)\n",
        "\n",
        "print(dh_dx)"
      ],
      "metadata": {
        "colab": {
          "base_uri": "https://localhost:8080/"
        },
        "id": "QyT9ha66gPr3",
        "outputId": "ff99564a-3bce-4205-aa4c-5b66e0220912"
      },
      "execution_count": 11,
      "outputs": [
        {
          "output_type": "stream",
          "name": "stdout",
          "text": [
            "tf.Tensor([-6.], shape=(1,), dtype=float32)\n"
          ]
        }
      ]
    },
    {
      "cell_type": "code",
      "source": [
        "x = tf.ones((1))\n",
        "\n",
        "with tf.GradientTape() as t:\n",
        "  t.watch(x)\n",
        "  g = x*x + 1 # g = x^2 + 1\n",
        "  h = tf.exp(g) # h = e^g\n",
        "\n",
        "dh_dx = t.gradient(h, x)\n",
        "\n",
        "print(dh_dx)"
      ],
      "metadata": {
        "colab": {
          "base_uri": "https://localhost:8080/"
        },
        "id": "AhX-fMTwhZKj",
        "outputId": "83e4e3f1-8e04-47f5-855a-5a343c450bbd"
      },
      "execution_count": 15,
      "outputs": [
        {
          "output_type": "stream",
          "name": "stdout",
          "text": [
            "tf.Tensor([14.778112], shape=(1,), dtype=float32)\n"
          ]
        }
      ]
    },
    {
      "cell_type": "code",
      "source": [
        "x = tf.ones((1))\n",
        "\n",
        "with tf.GradientTape() as t:\n",
        "  t.watch(x)\n",
        "  g = tf.cos(x*x*tf.exp(x) + 2*x)  # g = cos(x^2 * e^x + 2x)\n",
        "  h = tf.exp(g) * tf.sin(tf.sqrt(g)) # h = e^g * sin(sqrt(g))\n",
        "\n",
        "dh_dx = t.gradient(h, x)\n",
        "\n",
        "print(dh_dx)"
      ],
      "metadata": {
        "colab": {
          "base_uri": "https://localhost:8080/"
        },
        "id": "Y-1tF68uhryx",
        "outputId": "733e4039-4d12-4c1f-920d-c604af0b4bc9"
      },
      "execution_count": 21,
      "outputs": [
        {
          "output_type": "stream",
          "name": "stdout",
          "text": [
            "tf.Tensor([67.120346], shape=(1,), dtype=float32)\n"
          ]
        }
      ]
    },
    {
      "cell_type": "code",
      "source": [
        ""
      ],
      "metadata": {
        "id": "7KjNQiUbivHp"
      },
      "execution_count": null,
      "outputs": []
    }
  ]
}